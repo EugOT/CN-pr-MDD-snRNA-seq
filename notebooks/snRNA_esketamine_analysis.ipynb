{
  "cells": [
    {
      "cell_type": "markdown",
      "metadata": {
        "id": "v3p21rWwwWQH"
      },
      "source": [
        "Research Notes\n",
        "\n"
      ]
    },
    {
      "cell_type": "code",
      "execution_count": null,
      "metadata": {
        "id": "_k5siibPnIuu"
      },
      "outputs": [],
      "source": [
        "# These packages are pre-installed on Google Colab, but are included here to facilitate running this notebook locally\n",
        "!pip install --quiet matplotlib\n",
        "!pip install --quiet scikit-learn\n",
        "!pip install --quiet numpy\n",
        "!pip install --quiet scipy\n",
        "!pip install --quiet pacmap\n",
        "!pip install --quiet leidenalg\n",
        "!pip install --quiet sinfo\n",
        "# snRNA-seq analysis\n",
        "!pip install --quiet scanpy\n",
        "!pip install --quiet omnipath\n",
        "!pip install --quiet decoupler"
      ]
    },
    {
      "cell_type": "code",
      "execution_count": null,
      "metadata": {
        "colab": {
          "base_uri": "https://localhost:8080/"
        },
        "id": "qwSUV4DCnIuw",
        "outputId": "f4c985cd-fb64-46e8-aa8b-2b9640092290"
      },
      "outputs": [],
      "source": [
        "!git clone https://github.com/EugOT/CN-pr-MDD-snRNA-seq.git\n",
        "%cd /content/CN-pr-MDD-snRNA-seq/"
      ]
    },
    {
      "cell_type": "code",
      "execution_count": null,
      "metadata": {
        "id": "8RIh4eVMnIux"
      },
      "outputs": [],
      "source": [
        "import os\n",
        "import random\n",
        "import pacmap\n",
        "import numpy as np\n",
        "import pandas as pd\n",
        "import anndata as ad\n",
        "import scanpy as sc\n",
        "import decoupler as dc\n",
        "\n",
        "import matplotlib\n",
        "import matplotlib.pyplot as plt\n",
        "from matplotlib.pyplot import rc_context\n",
        "from anndata.experimental.multi_files import AnnCollection"
      ]
    },
    {
      "cell_type": "markdown",
      "metadata": {
        "id": "pdCyD_Gbis5U"
      },
      "source": [
        "# Load Data"
      ]
    },
    {
      "cell_type": "code",
      "execution_count": null,
      "metadata": {
        "id": "IKaejair0eEH"
      },
      "outputs": [],
      "source": [
        "samples_males = pd.read_csv(\"data/PRJNA602867.tsv\", delimiter=\"\\t\")\n",
        "samples_males = samples_males[[\"Run\", \"Condition\", \"LibraryName\", \"BioProject\", \"Sex\", \"NTotalCells\"]]\n",
        "\n",
        "samples_females = pd.read_csv(\"data/PRJNA883411.tsv\", delimiter=\"\\t\")\n",
        "samples_females = samples_females[[\"Run\", \"Condition\", \"LibraryName\", \"BioProject\", \"Sex\", \"NTotalCells\"]]"
      ]
    },
    {
      "cell_type": "code",
      "execution_count": null,
      "metadata": {
        "colab": {
          "base_uri": "https://localhost:8080/",
          "height": 645
        },
        "id": "umcykr9o4qU_",
        "outputId": "5a0535c8-7738-47b6-f828-0720de58cb42"
      },
      "outputs": [],
      "source": [
        "samples_females"
      ]
    },
    {
      "cell_type": "code",
      "execution_count": 6,
      "metadata": {
        "id": "mJzwOGctdBxW"
      },
      "outputs": [],
      "source": [
        "males = sc.read_h5ad(\n",
        "    \"data/PRJNA602867-whole_dataset-fpr_0.001-clusters.h5ad\"\n",
        ")\n",
        "males.obs['Run'] = males.obs['orig.ident']\n",
        "males.obs = pd.merge(samples_males, males.obs, on=\"Run\").set_index(\"cell_name\", drop=False)\n",
        "males.uns[\"name\"] = \"PRJNA602867\"\n",
        "sc.pp.filter_cells(males, min_genes=200)\n",
        "sc.pp.filter_genes(males, min_cells=5)\n",
        "\n",
        "females = sc.read_h5ad(\n",
        "    \"data/PRJNA883411-whole_dataset-fpr_0.001-clusters.h5ad\"\n",
        ")\n",
        "females.obs['Run'] = females.obs['orig.ident']\n",
        "females.obs = pd.merge(females.obs, samples_females, on=\"Run\", how = \"inner\").set_index(\"cell_name\", drop=False)\n",
        "females.uns[\"name\"] = \"PRJNA883411\"\n",
        "sc.pp.filter_cells(females, min_genes=200)\n",
        "sc.pp.filter_genes(females, min_cells=5)"
      ]
    },
    {
      "cell_type": "code",
      "execution_count": 8,
      "metadata": {
        "id": "qlgdmxrldHX-"
      },
      "outputs": [],
      "source": [
        "males.obs = males.obs[[\n",
        "    'cell_name',\n",
        "    'background_fraction',\n",
        "    'droplet_efficiency',\n",
        "    'doublet_score',\n",
        "    'nFeature_Diff',\n",
        "    'nCount_Diff',\n",
        "    'percent_mito',\n",
        "    'percent_ribo',\n",
        "    'percent_mito_ribo',\n",
        "    'percent_hb',\n",
        "    'log10GenesPerUMI',\n",
        "    'k_tree',\n",
        "    'Run',\n",
        "    'Condition',\n",
        "    'BioProject',\n",
        "    'Sex',\n",
        "    'n_genes']]\n",
        "\n",
        "females.obs = females.obs[[\n",
        "    'cell_name',\n",
        "    'background_fraction',\n",
        "    'droplet_efficiency',\n",
        "    'doublet_score',\n",
        "    'nFeature_Diff',\n",
        "    'nCount_Diff',\n",
        "    'percent_mito',\n",
        "    'percent_ribo',\n",
        "    'percent_mito_ribo',\n",
        "    'percent_hb',\n",
        "    'log10GenesPerUMI',\n",
        "    'k_tree',\n",
        "    'Run',\n",
        "    'Condition',\n",
        "    'BioProject',\n",
        "    'Sex',\n",
        "    'n_genes']]"
      ]
    },
    {
      "cell_type": "code",
      "execution_count": 9,
      "metadata": {
        "id": "l2KfFgyA1xI-"
      },
      "outputs": [],
      "source": [
        "sc.experimental.pp.highly_variable_genes(males, flavor=\"pearson_residuals\", n_top_genes=5000)\n",
        "sc.experimental.pp.highly_variable_genes(females, flavor=\"pearson_residuals\", n_top_genes=5000)\n",
        "\n",
        "males.obs[\"k_tree\"] = males.obs[\"Sex\"].astype(str) + \"_\" + males.obs[\"k_tree\"].astype(str)\n",
        "females.obs[\"k_tree\"] = females.obs[\"Sex\"].astype(str) + \"_\" + females.obs[\"k_tree\"].astype(str)"
      ]
    },
    {
      "cell_type": "code",
      "execution_count": null,
      "metadata": {
        "colab": {
          "base_uri": "https://localhost:8080/",
          "height": 53
        },
        "id": "e1367UeKm_kj",
        "outputId": "b861f4ff-b1c9-449c-f1df-a3acd8da41a7"
      },
      "outputs": [],
      "source": [
        "\n",
        "adata = ad.concat([males, females], join=\"inner\")\n",
        "adata.layers[\"raw\"] = adata.X.copy()\n",
        "adata.layers[\"sqrt_norm\"] = np.sqrt(sc.pp.normalize_total(adata, inplace=False)[\"X\"])\n",
        "adata.raw = adata\n",
        "sc.experimental.pp.recipe_pearson_residuals(adata, n_top_genes=2000, batch_key=\"Run\")\n"
      ]
    },
    {
      "cell_type": "markdown",
      "metadata": {
        "id": "Yn2_xLEHiyDP"
      },
      "source": [
        "# Check quality of data"
      ]
    },
    {
      "cell_type": "code",
      "execution_count": null,
      "metadata": {
        "colab": {
          "base_uri": "https://localhost:8080/"
        },
        "id": "k4s0vUZ6jYmp",
        "outputId": "ded84ccf-6bc7-4159-84f4-f1afd6303683"
      },
      "outputs": [],
      "source": [
        "hvgs = adata.var[\"highly_variable\"]\n",
        "embedding = pacmap.PaCMAP(\n",
        "    n_components=2, n_neighbors=None, MN_ratio=0.5, FP_ratio=2.0, apply_pca=False\n",
        ")\n",
        "adata.obsm[\"X_pacmap\"] = embedding.fit_transform(adata.obsm[\"X_pca\"], init=\"pca\")\n",
        "n_cells = len(adata)\n",
        "sc.pp.neighbors(adata, n_neighbors=20, n_pcs=50, method='umap')\n",
        "sc.tl.umap(adata, method='umap')\n",
        "sc.tl.leiden(adata)"
      ]
    },
    {
      "cell_type": "code",
      "execution_count": 15,
      "metadata": {
        "id": "K2eC-GPslv1U"
      },
      "outputs": [],
      "source": [
        "#Normalize with count depth scaling and apply log\n",
        "sc.pp.normalize_total(adata, target_sum=1e4)\n",
        "sc.pp.log1p(adata)\n"
      ]
    },
    {
      "cell_type": "code",
      "execution_count": null,
      "metadata": {
        "colab": {
          "base_uri": "https://localhost:8080/",
          "height": 35
        },
        "id": "psqXKqLDsF84",
        "outputId": "9d6182e9-0216-4395-f3fc-445ab1cc5a80"
      },
      "outputs": [],
      "source": [
        "sc.tl.rank_genes_groups(adata, 'leiden', method='logreg', key_added=\"leiden\")"
      ]
    },
    {
      "cell_type": "code",
      "execution_count": null,
      "metadata": {},
      "outputs": [],
      "source": [
        "sc.pl.rank_genes_groups(adata, key='leiden')"
      ]
    },
    {
      "cell_type": "code",
      "execution_count": 22,
      "metadata": {
        "id": "levkirxhly8d"
      },
      "outputs": [],
      "source": [
        "sc.tl.leiden(females, flavor=\"igraph\", n_iterations=2)\n",
        "\n",
        "sc.tl.umap(females)"
      ]
    },
    {
      "cell_type": "code",
      "execution_count": null,
      "metadata": {
        "colab": {
          "base_uri": "https://localhost:8080/",
          "height": 776
        },
        "id": "742wB980elTD",
        "outputId": "09f5444e-a1c5-4dfd-d712-adb2b05d5e32"
      },
      "outputs": [],
      "source": [
        "sc.pl.umap(\n",
        "    adata,\n",
        "    color=[\"leiden\", \"log1p_total_counts\", \"pct_counts_mt\", \"log1p_n_genes_by_counts\"],\n",
        "    wspace=0.5,\n",
        "    ncols=2,\n",
        ")"
      ]
    },
    {
      "cell_type": "code",
      "execution_count": null,
      "metadata": {
        "id": "ZjTB4ZSdffaw"
      },
      "outputs": [],
      "source": []
    },
    {
      "cell_type": "markdown",
      "metadata": {
        "id": "7N0GV5yZs_H7"
      },
      "source": [
        "# Marker Genes"
      ]
    },
    {
      "cell_type": "code",
      "execution_count": null,
      "metadata": {
        "id": "xFdC-iE_6nnR"
      },
      "outputs": [],
      "source": [
        "# Query Omnipath and get PanglaoDB\n",
        "markers = dc.get_resource(\"PanglaoDB\")\n",
        "markers"
      ]
    },
    {
      "cell_type": "code",
      "execution_count": null,
      "metadata": {
        "id": "oqfTXiqxtEkH"
      },
      "outputs": [],
      "source": [
        "# Filter by canonical_marker and human\n",
        "markers = markers[\n",
        "    (markers[\"human\"] == True) & (markers[\"canonical_marker\"] == True)\n",
        "]\n"
      ]
    },
    {
      "cell_type": "code",
      "execution_count": null,
      "metadata": {},
      "outputs": [],
      "source": [
        "# Remove duplicated entries\n",
        "markers = markers[~markers.duplicated([\"cell_type\", \"genesymbol\"])]\n",
        "markers[\"genesymbol_hs\"] = [i.capitalize() for i in markers[\"genesymbol\"]]\n",
        "markers"
      ]
    },
    {
      "cell_type": "code",
      "execution_count": null,
      "metadata": {},
      "outputs": [],
      "source": [
        "# Enrichment with Over Representation Analysis\n",
        "dc.run_ora(\n",
        "    mat=adata,\n",
        "    net=markers,\n",
        "    source=\"cell_type\",\n",
        "    target=\"genesymbol\",\n",
        "    min_n=3,\n",
        "    verbose=False,\n",
        "    use_raw=True,\n",
        ")\n",
        "\n",
        "\n",
        "# Object for visualizing the ORA-results\n",
        "acts = dc.get_acts(adata, obsm_key=\"ora_estimate\")\n",
        "acts"
      ]
    },
    {
      "cell_type": "code",
      "execution_count": null,
      "metadata": {},
      "outputs": [],
      "source": [
        "with rc_context({'figure.figsize': (6, 3)}):\n",
        "    sc.pl.embedding(\n",
        "        acts,\n",
        "        basis=\"X_pacmap\",\n",
        "        color=[\n",
        "            \"Astrocytes\",\n",
        "            \"Neuroblasts\",\n",
        "            \"Neurons\",\n",
        "            \"Pyramidal cells\",\n",
        "            \"Oligodendrocytes\",\n",
        "            \"Oligodendrocyte progenitor cells\",\n",
        "            \"Endothelial cells\",\n",
        "            \"Mast cells\"\n",
        "        ],\n",
        "        ncols=4\n",
        "        )"
      ]
    },
    {
      "cell_type": "code",
      "execution_count": null,
      "metadata": {},
      "outputs": [],
      "source": [
        "# Annotaiton\n",
        "mean_enr = dc.summarize_acts(acts, groupby=\"leiden\", min_std=1)\n",
        "annotation_dict = dc.assign_groups(mean_enr)\n",
        "annotation_dict"
      ]
    },
    {
      "cell_type": "code",
      "execution_count": null,
      "metadata": {},
      "outputs": [],
      "source": [
        "# Add cell type column based on annotation\n",
        "adata.obs[\"ora_celltype\"] = [\n",
        "    annotation_dict[str(clust)] for clust in adata.obs[\"leiden\"]\n",
        "]"
      ]
    },
    {
      "cell_type": "code",
      "execution_count": null,
      "metadata": {},
      "outputs": [],
      "source": [
        "sc.pl.embedding(\n",
        "    adata,\n",
        "    basis=\"X_pacmap\",\n",
        "    color=\"ora_celltype\",\n",
        "    title=\"PaCMAP: {feature}\".format(feature=\"ora_celltype\"),\n",
        "    add_outline=True,\n",
        "    legend_loc=\"on data\",\n",
        "    legend_fontsize=12,\n",
        "    legend_fontoutline=2,\n",
        "    frameon=False,\n",
        "    palette=\"tab20\",\n",
        ")"
      ]
    },
    {
      "cell_type": "code",
      "execution_count": null,
      "metadata": {},
      "outputs": [],
      "source": [
        "sc.pl.umap(\n",
        "    adata,\n",
        "    color=\"ora_celltype\",\n",
        "    title=\"UMAP: {feature}\".format(feature=\"ora_celltype\"),\n",
        "    add_outline=True,\n",
        "    legend_loc=\"on data\",\n",
        "    legend_fontsize=12,\n",
        "    legend_fontoutline=2,\n",
        "    frameon=False,\n",
        "    palette=\"tab20\",\n",
        ")"
      ]
    },
    {
      "cell_type": "code",
      "execution_count": null,
      "metadata": {},
      "outputs": [],
      "source": [
        "#Investigate general distribution of male and female in cell with celltype==Neurons\n",
        "neurons = adata[adata.obs[\"ora_celltype\"] == \"Neurons\"]\n",
        "neurons.obs.groupby(\"Sex\")[\"cell_name\"].count().reset_index()"
      ]
    },
    {
      "cell_type": "code",
      "execution_count": null,
      "metadata": {},
      "outputs": [],
      "source": [
        "\n",
        "#Filter to only keep cells that express the PVALB gene\n",
        "gene_index = adata.var_names.get_loc('PVALB')\n",
        "mask = adata.X[:, gene_index] > 0\n",
        "only_pvalb_expressing_cells = adata[mask]\n",
        "\n",
        "#Filter to only keep those PVALB expressing cells that are also of celltype==Neuron\n",
        "only_ovalb_expressing_neurons = only_pvalb_expressing_cells[only_pvalb_expressing_cells.obs[\"ora_celltype\"] == \"Neurons\"]\n"
      ]
    },
    {
      "cell_type": "code",
      "execution_count": null,
      "metadata": {},
      "outputs": [],
      "source": [
        "#Group by condition and sex\n",
        "cluster_condition_counts = only_ovalb_expressing_neurons.obs.groupby([\"Sex\",'Condition'])['cell_name'].count().reset_index()\n",
        "cluster_condition_counts"
      ]
    }
  ],
  "metadata": {
    "accelerator": "GPU",
    "colab": {
      "gpuType": "T4",
      "provenance": []
    },
    "kernelspec": {
      "display_name": "mlhw",
      "language": "python",
      "name": "python3"
    },
    "language_info": {
      "codemirror_mode": {
        "name": "ipython",
        "version": 3
      },
      "file_extension": ".py",
      "mimetype": "text/x-python",
      "name": "python",
      "nbconvert_exporter": "python",
      "pygments_lexer": "ipython3",
      "version": "3.12.8"
    }
  },
  "nbformat": 4,
  "nbformat_minor": 0
}
