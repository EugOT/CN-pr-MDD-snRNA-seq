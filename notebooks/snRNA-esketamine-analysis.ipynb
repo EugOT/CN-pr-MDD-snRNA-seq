{
 "cells": [
  {
   "cell_type": "code",
   "execution_count": 1,
   "metadata": {},
   "outputs": [],
   "source": [
    "# These packages are pre-installed on Google Colab, but are included here to facilitate running this notebook locally\n",
    "!pip install --quiet matplotlib\n",
    "!pip install --quiet scikit-learn\n",
    "!pip install --quiet numpy\n",
    "!pip install --quiet scipy\n",
    "!pip install --quiet pacmap\n",
    "!pip install --quiet leidenalg\n",
    "!pip install --quiet sinfo\n",
    "# snRNA-seq analysis\n",
    "!pip install --quiet scanpy\n",
    "!pip install --quiet omnipath\n",
    "!pip install --quiet decoupler"
   ]
  },
  {
   "cell_type": "code",
   "execution_count": null,
   "metadata": {},
   "outputs": [],
   "source": [
    "!git clone https://github.com/EugOT/CN-pr-MDD-snRNA-seq.git\n",
    "%cd /content/CN-pr-MDD-snRNA-seq/"
   ]
  },
  {
   "cell_type": "code",
   "execution_count": null,
   "metadata": {},
   "outputs": [],
   "source": [
    "import os \n",
    "import random\n",
    "import pacmap\n",
    "import numpy as np\n",
    "import pandas as pd\n",
    "import anndata as ad\n",
    "import scanpy as sc\n",
    "import decoupler as dc\n",
    "\n",
    "import matplotlib\n",
    "import matplotlib.pyplot as plt\n",
    "from matplotlib.pyplot import rc_context\n",
    "from anndata.experimental.multi_files import AnnCollection"
   ]
  },
  {
   "cell_type": "code",
   "execution_count": null,
   "metadata": {},
   "outputs": [],
   "source": [
    "matplotlib.rcParams[\"pdf.use14corefonts\"] = True\n",
    "matplotlib.rcParams[\"pdf.fonttype\"] = 42\n",
    "matplotlib.rcParams[\"ps.fonttype\"] = 42\n",
    "matplotlib.rcParams[\"font.family\"] = \"sans-serif\"\n",
    "matplotlib.rcParams[\"font.sans-serif\"] = [\"Helvetica\"]\n",
    "matplotlib.rcParams[\"figure.max_open_warning\"] = 20000\n",
    "\n",
    "reseed = 42\n",
    "random.seed(reseed)\n",
    "np.random.seed(reseed)\n",
    "\n",
    "sc.settings.verbosity = 0  # verbosity: errors (0), warnings (1), info (2), hints (3)\n",
    "# sc.settings.figdir = PLOTS_DIR\n",
    "sc.settings.set_figure_params(\n",
    "    dpi=180, dpi_save=600, vector_friendly=True, format=\"pdf\", transparent=True\n",
    ")\n",
    "sc.settings.autoshow = True\n",
    "sc.settings.autosave = False"
   ]
  },
  {
   "cell_type": "code",
   "execution_count": null,
   "metadata": {},
   "outputs": [],
   "source": [
    "samples_males = pd.read_csv(\"data/PRJNA602867.tsv\", delimiter=\"\\t\")\n",
    "samples_males = samples_males[[\"Run\", \"Condition\", \"LibraryName\", \"BioProject\", \"Sex\", \"NTotalCells\"]]\n",
    "\n",
    "samples_females = pd.read_csv(\"data/PRJNA883411.tsv\", delimiter=\"\\t\")\n",
    "samples_females = samples_females[[\"Run\", \"Condition\", \"LibraryName\", \"BioProject\", \"Sex\", \"NTotalCells\"]]"
   ]
  },
  {
   "cell_type": "code",
   "execution_count": null,
   "metadata": {},
   "outputs": [],
   "source": [
    "filtering_parameters = {\n",
    "    \"hvg_top_genes\":6000, #orig: 5000\n",
    "    \"pearson_residuals_top_genes\":3000, # orig: 2000\n",
    "    \"min_cells_per_gene\":5, #orig: 10\n",
    "    \"min_genes_per_cell\":200, #orig: 500\n",
    "}"
   ]
  },
  {
   "cell_type": "code",
   "execution_count": null,
   "metadata": {},
   "outputs": [],
   "source": [
    "males = sc.read_h5ad(\n",
    "    \"data/PRJNA602867-whole_dataset-fpr_0.001-clusters.h5ad\"\n",
    ")\n",
    "males.obs['Run'] = males.obs['orig.ident']\n",
    "males.obs = pd.merge(samples_males, males.obs, on=\"Run\").set_index(\"cell_name\", drop=False)\n",
    "males.uns[\"name\"] = \"PRJNA602867\"\n",
    "sc.pp.filter_cells(males, min_genes=filtering_parameters[\"min_genes_per_cell\"])\n",
    "sc.pp.filter_genes(males, min_cells=filtering_parameters[\"min_cells_per_gene\"])\n",
    "\n",
    "females = sc.read_h5ad(\n",
    "    \"data/PRJNA883411-whole_dataset-fpr_0.001-clusters.h5ad\"\n",
    ")\n",
    "females.obs['Run'] = females.obs['orig.ident']\n",
    "females.obs = pd.merge(females.obs, samples_females, on=\"Run\", how = \"inner\").set_index(\"cell_name\", drop=False)\n",
    "females.uns[\"name\"] = \"PRJNA883411\"\n",
    "sc.pp.filter_cells(females, min_genes=filtering_parameters[\"min_genes_per_cell\"])\n",
    "sc.pp.filter_genes(females, min_cells=filtering_parameters[\"min_cells_per_gene\"])"
   ]
  },
  {
   "cell_type": "code",
   "execution_count": null,
   "metadata": {},
   "outputs": [],
   "source": [
    "males.obs = males.obs[[\n",
    "    'cell_name',\n",
    "    'background_fraction',\n",
    "    'droplet_efficiency',\n",
    "    'doublet_score',\n",
    "    'nFeature_Diff',\n",
    "    'nCount_Diff',\n",
    "    'percent_mito',\n",
    "    'percent_ribo',\n",
    "    'percent_mito_ribo',\n",
    "    'percent_hb',\n",
    "    'log10GenesPerUMI',\n",
    "    'k_tree',\n",
    "    'Run',\n",
    "    'Condition',\n",
    "    'BioProject',\n",
    "    'Sex',\n",
    "    'n_genes']]\n",
    "\n",
    "females.obs = females.obs[[\n",
    "    'cell_name',\n",
    "    'background_fraction',\n",
    "    'droplet_efficiency',\n",
    "    'doublet_score',\n",
    "    'nFeature_Diff',\n",
    "    'nCount_Diff',\n",
    "    'percent_mito',\n",
    "    'percent_ribo',\n",
    "    'percent_mito_ribo',\n",
    "    'percent_hb',\n",
    "    'log10GenesPerUMI',\n",
    "    'k_tree',\n",
    "    'Run',\n",
    "    'Condition',\n",
    "    'BioProject',\n",
    "    'Sex',\n",
    "    'n_genes']]"
   ]
  },
  {
   "cell_type": "code",
   "execution_count": null,
   "metadata": {},
   "outputs": [],
   "source": [
    "# join males and females datasets into a single AnnData object\n",
    "adata = ad.concat([males, females], join=\"inner\")\n",
    "\n",
    "# save raw counts and normalized counts for later use\n",
    "adata.layers[\"raw\"] = adata.X.copy()\n",
    "adata.layers[\"sqrt_norm\"] = np.sqrt(sc.pp.normalize_total(adata, inplace=False)[\"X\"])\n",
    "adata.raw = adata\n",
    "\n",
    "# apply the Pearson residuals recipe \n",
    "sc.experimental.pp.recipe_pearson_residuals(adata, n_top_genes=2000, batch_key=\"Run\")\n"
   ]
  },
  {
   "cell_type": "code",
   "execution_count": null,
   "metadata": {},
   "outputs": [],
   "source": [
    "adata"
   ]
  },
  {
   "cell_type": "code",
   "execution_count": null,
   "metadata": {},
   "outputs": [],
   "source": [
    "#Filter neurons based on the three gene markers for PV Interneurons\n",
    "\n",
    "pvalb_gene_index = adata.var_names.get_loc('PVALB')\n",
    "gad1_gene_index = adata.var_names.get_loc('GAD1')\n",
    "gad2_gene_index = adata.var_names.get_loc('GAD2')\n",
    "pv_neurons_mask = (adata.X[:, pvalb_gene_index].toarray() > 0) & (adata.X[:, gad1_gene_index].toarray() > 0) & (adata.X[:, gad2_gene_index].toarray() > 0)\n",
    "only_pv_neurons = adata[pv_neurons_mask]\n"
   ]
  },
  {
   "cell_type": "code",
   "execution_count": null,
   "metadata": {},
   "outputs": [],
   "source": [
    "#number of available cells per condition\n",
    "adata.obs.groupby(['Condition'])['cell_name'].count().reset_index()\n"
   ]
  },
  {
   "cell_type": "code",
   "execution_count": null,
   "metadata": {},
   "outputs": [],
   "source": [
    "#number of available cells per sex\n",
    "adata.obs.groupby(['Sex'])['cell_name'].count().reset_index()"
   ]
  },
  {
   "cell_type": "code",
   "execution_count": null,
   "metadata": {},
   "outputs": [],
   "source": [
    "adata"
   ]
  },
  {
   "cell_type": "code",
   "execution_count": null,
   "metadata": {},
   "outputs": [],
   "source": [
    "adata = only_pv_neurons.copy()\n",
    "\n",
    "# identify highly variable genes using Pearson residuals method\n",
    "sc.experimental.pp.highly_variable_genes(adata, flavor=\"pearson_residuals\", n_top_genes=filtering_parameters[\"hvg_top_genes\"])\n",
    "\n",
    "#only include highly variable genes in data\n",
    "adata = adata[:, adata.var[\"highly_variable\"]]\n",
    "\n",
    "# combine Sex and k_tree into k_rtee\n",
    "adata.obs[\"k_tree\"] = adata.obs[\"Sex\"].astype(str) + \"_\" + adata.obs[\"k_tree\"].astype(str)\n"
   ]
  },
  {
   "cell_type": "code",
   "execution_count": null,
   "metadata": {},
   "outputs": [],
   "source": [
    "#keep raw and depth-normalized counts for later\n",
    "adata.layers[\"raw\"] = adata.X.copy()\n",
    "adata.layers[\"sqrt_norm\"] = np.sqrt(sc.pp.normalize_total(adata, inplace=False)[\"X\"])\n",
    "adata.X = adata.X.toarray() + 1e-6\n",
    "adata.raw = adata\n",
    "\n",
    "#perform normalization with recipe_pearson_residuals\n",
    "sc.experimental.pp.recipe_pearson_residuals(adata, n_top_genes=filtering_parameters[\"pearson_residuals_top_genes\"], batch_key=\"Run\")"
   ]
  },
  {
   "cell_type": "code",
   "execution_count": null,
   "metadata": {},
   "outputs": [],
   "source": [
    "#extract highly variable genes and perform dimensionality reduction\n",
    "hvgs = adata.var[\"highly_variable\"]\n",
    "embedding = pacmap.PaCMAP(\n",
    "    n_components=2, n_neighbors=None, MN_ratio=0.5, FP_ratio=2.0, apply_pca=False\n",
    ")\n",
    "adata.obsm[\"X_pacmap\"] = embedding.fit_transform(adata.obsm[\"X_pca\"], init=\"pca\")\n",
    "n_cells = len(adata)\n",
    "\n",
    "#get nearest neighbours for umapping\n",
    "sc.pp.neighbors(adata, n_neighbors=20, n_pcs=50, method='umap')\n",
    "sc.tl.umap(adata, method='umap')\n",
    "sc.tl.leiden(adata)"
   ]
  },
  {
   "cell_type": "code",
   "execution_count": null,
   "metadata": {},
   "outputs": [],
   "source": [
    "#Trying to find DEGs for either condition\n",
    "\n",
    "adata.obs['ConditionCategory'] = adata.obs['Condition'].astype('category')\n",
    "sc.tl.rank_genes_groups(\n",
    "    adata,\n",
    "    groupby=\"ConditionCategory\",  # Column defining your groups\n",
    "    method=\"t-test\",      # You can also try 'logreg', 'wilcoxon', or 't-test_overestim_var'\n",
    "    key_added=\"degs_condition\"\n",
    ")"
   ]
  },
  {
   "cell_type": "code",
   "execution_count": null,
   "metadata": {},
   "outputs": [],
   "source": [
    "sc.pl.rank_genes_groups(adata, key='degs_condition')"
   ]
  },
  {
   "cell_type": "code",
   "execution_count": null,
   "metadata": {},
   "outputs": [],
   "source": [
    "sc.tl.rank_genes_groups(adata, 'leiden', method='logreg', key_added=\"leiden\")"
   ]
  },
  {
   "cell_type": "code",
   "execution_count": null,
   "metadata": {},
   "outputs": [],
   "source": [
    "sc.pl.rank_genes_groups(adata, key='leiden')"
   ]
  },
  {
   "cell_type": "code",
   "execution_count": null,
   "metadata": {},
   "outputs": [],
   "source": [
    "adata"
   ]
  },
  {
   "cell_type": "code",
   "execution_count": null,
   "metadata": {},
   "outputs": [],
   "source": [
    "adata.obs.groupby([\"leiden\",\"Condition\"])[\"cell_name\"].count().reset_index()"
   ]
  }
 ],
 "metadata": {
  "kernelspec": {
   "display_name": "base",
   "language": "python",
   "name": "python3"
  },
  "language_info": {
   "codemirror_mode": {
    "name": "ipython",
    "version": 3
   },
   "file_extension": ".py",
   "mimetype": "text/x-python",
   "name": "python",
   "nbconvert_exporter": "python",
   "pygments_lexer": "ipython3",
   "version": "3.10.16"
  }
 },
 "nbformat": 4,
 "nbformat_minor": 2
}
