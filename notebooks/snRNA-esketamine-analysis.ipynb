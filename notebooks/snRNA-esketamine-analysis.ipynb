{
 "cells": [
  {
   "cell_type": "code",
   "execution_count": null,
   "metadata": {},
   "outputs": [],
   "source": [
    "# These packages are pre-installed on Google Colab, but are included here to facilitate running this notebook locally\n",
    "!pip install --quiet matplotlib\n",
    "!pip install --quiet scikit-learn\n",
    "!pip install --quiet numpy\n",
    "!pip install --quiet scipy\n",
    "!pip install --quiet pacmap\n",
    "!pip install --quiet leidenalg\n",
    "!pip install --quiet sinfo\n",
    "# snRNA-seq analysis\n",
    "!pip install --quiet scanpy\n",
    "!pip install --quiet omnipath\n",
    "!pip install --quiet decoupler"
   ]
  },
  {
   "cell_type": "code",
   "execution_count": null,
   "metadata": {},
   "outputs": [],
   "source": [
    "!git clone https://github.com/EugOT/CN-pr-MDD-snRNA-seq.git\n",
    "%cd /content/CN-pr-MDD-snRNA-seq/"
   ]
  },
  {
   "cell_type": "code",
   "execution_count": null,
   "metadata": {},
   "outputs": [],
   "source": [
    "import os \n",
    "import random\n",
    "import pacmap\n",
    "import numpy as np\n",
    "import pandas as pd\n",
    "import anndata as ad\n",
    "import scanpy as sc\n",
    "import decoupler as dc\n",
    "\n",
    "import matplotlib\n",
    "import matplotlib.pyplot as plt\n",
    "from matplotlib.pyplot import rc_context\n",
    "from anndata.experimental.multi_files import AnnCollection"
   ]
  },
  {
   "cell_type": "code",
   "execution_count": null,
   "metadata": {},
   "outputs": [],
   "source": [
    "reseed = 1090\n",
    "random.seed(reseed)\n",
    "np.random.seed(reseed)\n",
    "\n",
    "sc.settings.verbosity = 0"
   ]
  },
  {
   "cell_type": "code",
   "execution_count": null,
   "metadata": {},
   "outputs": [],
   "source": [
    "samples_males = pd.read_csv(\"data/PRJNA602867.tsv\", delimiter=\"\\t\")\n",
    "print(samples_males.columns)\n",
    "samples_males = samples_males[[\"Run\", \"Condition\", \"LibraryName\", \"BioProject\", \"Sex\", \"NTotalCells\"]]\n",
    "\n",
    "samples_females = pd.read_csv(\"data/PRJNA883411.tsv\", delimiter=\"\\t\")\n",
    "samples_females = samples_females[[\"Run\", \"Condition\", \"LibraryName\", \"BioProject\", \"Sex\", \"NTotalCells\"]]"
   ]
  },
  {
   "cell_type": "code",
   "execution_count": null,
   "metadata": {},
   "outputs": [],
   "source": [
    "males = sc.read_h5ad(\n",
    "    \"data/PRJNA602867-whole_dataset-fpr_0.001-clusters.h5ad\"\n",
    ")\n",
    "males.obs['Run'] = males.obs['orig.ident']\n",
    "males.obs = pd.merge(samples_males, males.obs, on=\"Run\").set_index(\"cell_name\", drop=False)\n",
    "males.uns[\"name\"] = \"PRJNA602867\"\n",
    "sc.pp.filter_cells(males, min_genes=500)\n",
    "sc.pp.filter_genes(males, min_cells=10)"
   ]
  },
  {
   "cell_type": "code",
   "execution_count": null,
   "metadata": {},
   "outputs": [],
   "source": [
    "males.obs = males.obs[[\n",
    "    'cell_name',\n",
    "    'background_fraction',\n",
    "    'droplet_efficiency',\n",
    "    'doublet_score',\n",
    "    'nFeature_Diff',\n",
    "    'nCount_Diff',\n",
    "    'percent_mito',\n",
    "    'percent_ribo',\n",
    "    'percent_mito_ribo',\n",
    "    'percent_hb',\n",
    "    'log10GenesPerUMI',\n",
    "    'k_tree',\n",
    "    'Run',\n",
    "    'Condition',\n",
    "    'BioProject',\n",
    "    'Sex',\n",
    "    'n_genes']]"
   ]
  },
  {
   "cell_type": "code",
   "execution_count": null,
   "metadata": {},
   "outputs": [],
   "source": [
    "sc.experimental.pp.highly_variable_genes(males, flavor=\"pearson_residuals\", n_top_genes=5000)"
   ]
  },
  {
   "cell_type": "code",
   "execution_count": null,
   "metadata": {},
   "outputs": [],
   "source": [
    "males = males[:, males.var[\"highly_variable\"]]"
   ]
  },
  {
   "cell_type": "code",
   "execution_count": null,
   "metadata": {},
   "outputs": [],
   "source": []
  }
 ],
 "metadata": {
  "language_info": {
   "name": "python"
  }
 },
 "nbformat": 4,
 "nbformat_minor": 2
}
